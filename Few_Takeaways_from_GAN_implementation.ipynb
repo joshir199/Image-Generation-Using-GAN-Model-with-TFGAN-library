{
  "nbformat": 4,
  "nbformat_minor": 0,
  "metadata": {
    "colab": {
      "provenance": []
    },
    "kernelspec": {
      "name": "python3",
      "display_name": "Python 3"
    },
    "language_info": {
      "name": "python"
    }
  },
  "cells": [
    {
      "cell_type": "code",
      "execution_count": null,
      "metadata": {
        "id": "tcsd3TP7hg9h"
      },
      "outputs": [],
      "source": [
        "# Few takeaways from GAN network implementation using tensorflow V2"
      ]
    },
    {
      "cell_type": "code",
      "source": [
        "\"\"\"\n",
        "1. Generator netowrk should take noise input with dimension prefereably\n",
        "  in the factor of 2^n. e.g : 64, 128, 256 etc.\n",
        "\n",
        "2. Generator network should use layers of strided convolutions (conv2D layer with stride > 1)\n",
        "   rather than Pooling layers to reduce Spatial dimensions.\n",
        "   e.g : ResNet relies on strided convolution rather than max pooling to reduce\n",
        "   spatial dimensions in between residual modules.\n",
        "\n",
        "3. Set Padding values in Convolutional layer : padding='same' rather than 'valid'\n",
        "   as 'valid' reduces the spatial dimension because no padding is applied\n",
        "\n",
        "4. For Initializer of Kernels, Use default \"glorot_uniform\" , the Xavier Glorot uniform\n",
        "   initialization method, which is perfectly fine for the majority of tasks; however,\n",
        "   for deeper neural networks you may want to use \"he_normal\" (MSRA/He et al. initialization)\n",
        "   which works especially well when your network has a large number of parameters(i.e.,VGGNet).\n",
        "\n",
        "5. Use of kernel_regularizer and bias_regularizer is very necessary, As GAN models are\n",
        "   highly likely to overfit or diverge due to vanishing graidents and never converge.\n",
        "   It is recommended to use L2 regularization.\n",
        "\n",
        "6. Use ReLU in the generator, while Use Leaky ReLU in the discriminator as discriminator\n",
        "   will be encountering vanishing gradient problem. It is similar to ReLU, but instead of\n",
        "   returning zero for negative inputs, it returns a small negative value. This helps to\n",
        "   avoid the \"dying ReLU\" problem, where some neurons can become permanently inactive\n",
        "   during training.\n",
        "\n",
        "7. The discriminator model is very much similar to basic CNN classification architecture.\n",
        "   ITs job is to classify the given image ad 'real' or 'fake'.\n",
        "\"\"\""
      ],
      "metadata": {
        "id": "z7upCT5XhqF0"
      },
      "execution_count": null,
      "outputs": []
    },
    {
      "cell_type": "code",
      "source": [
        "# Training Process takeaways:\n",
        "\n",
        "# Below process happens under the hood of GANEstimator of TF-GAN\n",
        "\n",
        "\"\"\"\n",
        "gen_model = generator_net()   # create generator model\n",
        "\n",
        "disc_model = discriminator_net()  # create discriminator model\n",
        "\n",
        "disc_Optimizer = Adam(lr=INIT_LR, beta_1=0.5, decay=INIT_LR / NUM_EPOCHS)\n",
        "\n",
        "# compile discriminator model\n",
        "disc_model.compile(loss=\"binary_crossentropy\", optimizer=disc_Optimizer)\n",
        "\n",
        "disc_model.trainable = False  # discriminator should not be trained\n",
        "\n",
        "\n",
        "# Create the GAN model by combining generator and discriminator models\n",
        "# together for training and generating new images\n",
        "\n",
        "gan_Input = keras.Input(64)\n",
        "\n",
        "gan_Output = disc_model(gen_model(gan Input))\n",
        "\n",
        "gan_model = keras.Model(inputs=gan_Input, outputs = gan_Output)\n",
        "\n",
        "gan_Optimizer = Adam(lr=INIT_LR, beta_1=0.5, decay=INIT_LR / NUM_EPOCHS)\n",
        "\n",
        "gan_model.compile(loss=\"binary_crossentropy\", optimizer=gan_Optimizer)\n",
        "\n",
        "\"\"\""
      ],
      "metadata": {
        "id": "QmVYgPgVoPu9"
      },
      "execution_count": null,
      "outputs": []
    }
  ]
}